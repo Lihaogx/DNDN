{
 "cells": [
  {
   "cell_type": "code",
   "execution_count": 3,
   "metadata": {},
   "outputs": [
    {
     "name": "stderr",
     "output_type": "stream",
     "text": [
      "/tmp/ipykernel_331616/2648871866.py:14: UserWarning: To copy construct from a tensor, it is recommended to use sourceTensor.clone().detach() or sourceTensor.clone().detach().requires_grad_(True), rather than torch.tensor(sourceTensor).\n",
      "  source_edge_index = torch.tensor(graph['source_edge_index'])\n",
      "/tmp/ipykernel_331616/2648871866.py:15: UserWarning: To copy construct from a tensor, it is recommended to use sourceTensor.clone().detach() or sourceTensor.clone().detach().requires_grad_(True), rather than torch.tensor(sourceTensor).\n",
      "  sink_edge_index = torch.tensor(graph['sink_edge_index'])\n"
     ]
    }
   ],
   "source": [
    "import os\n",
    "import pickle\n",
    "from torch_geometric.data import Data\n",
    "import torch\n",
    "\n",
    "def process_graphs(graph_dict):\n",
    "    processed_data = []\n",
    "    keys = sorted(graph_dict.keys())  \n",
    "    for key in keys:\n",
    "        graph = graph_dict[key]\n",
    "        barcode = torch.tensor(graph['barcode'])\n",
    "        PI = torch.tensor(graph['PI'])\n",
    "        node_features = torch.tensor(graph['filtration_val']).view(-1, 1)\n",
    "        source_edge_index = torch.tensor(graph['source_edge_index'])\n",
    "        sink_edge_index = torch.tensor(graph['sink_edge_index'])\n",
    "        graph_data = Data(\n",
    "            x = node_features,\n",
    "            source_edge_index = source_edge_index,\n",
    "            sink_edge_index = sink_edge_index,\n",
    "            barcode_ground = barcode,\n",
    "            PI = PI,\n",
    "            label = torch.tensor([graph['label']])\n",
    "        )\n",
    "        processed_data.append(graph_data)\n",
    "    return processed_data\n",
    "\n",
    "dataset_name = 'citation'\n",
    "if dataset_name in ['citation', 'bitcoin', 'question', 'social']:\n",
    "    data_path = os.path.join('dynamic_dataset', f'{dataset_name}.pkl')\n",
    "    small_data_path = os.path.join('dynamic_dataset', f'{dataset_name}_small_graph.pkl')\n",
    "    large_data_path = os.path.join('dynamic_dataset', f'{dataset_name}_large_graph.pkl')\n",
    "elif dataset_name in ['RedditB', 'Reddit5K', 'Reddit12K']:\n",
    "    data_path = os.path.join('static_dataset', f'{dataset_name}.pkl')\n",
    "    small_data_path = os.path.join('dynamic_dataset', f'{dataset_name}_small_graph.pkl')\n",
    "    large_data_path = os.path.join('dynamic_dataset', f'{dataset_name}_large_graph.pkl')\n",
    "\n",
    "with open(data_path, 'rb') as f:\n",
    "    data = pickle.load(f)\n",
    "\n",
    "small_data = process_graphs(data['small_graph'])\n",
    "large_data = process_graphs(data['big_graph'])\n",
    "\n",
    "with open(small_data_path, 'wb') as f:\n",
    "    pickle.dump(small_data, f, pickle.HIGHEST_PROTOCOL)\n",
    "\n",
    "with open(large_data_path, 'wb') as f:\n",
    "    pickle.dump(large_data, f, pickle.HIGHEST_PROTOCOL)\n"
   ]
  }
 ],
 "metadata": {
  "kernelspec": {
   "display_name": "sinn",
   "language": "python",
   "name": "python3"
  },
  "language_info": {
   "codemirror_mode": {
    "name": "ipython",
    "version": 3
   },
   "file_extension": ".py",
   "mimetype": "text/x-python",
   "name": "python",
   "nbconvert_exporter": "python",
   "pygments_lexer": "ipython3",
   "version": "3.9.19"
  }
 },
 "nbformat": 4,
 "nbformat_minor": 2
}
